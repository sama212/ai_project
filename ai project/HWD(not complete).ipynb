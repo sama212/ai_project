{
 "cells": [
  {
   "cell_type": "code",
   "execution_count": 1,
   "id": "2cdd7bbe",
   "metadata": {},
   "outputs": [],
   "source": [
    "import numpy as np\n",
    "import matplotlib.pyplot as plt\n",
    "import keras \n",
    "\n",
    "from keras.datasets import mnist\n",
    "from keras.models import Sequential\n",
    "from keras.layers import Dense , Conv2D , MaxPool2D , Flatten , Dropout "
   ]
  },
  {
   "cell_type": "code",
   "execution_count": 2,
   "id": "f6738d8b",
   "metadata": {},
   "outputs": [],
   "source": [
    "(x_train, y_train), (x_test, y_test) = mnist.load_data()\n",
    "#x_train.shape , y_train.shape , x_test.shape ,y_test.shape"
   ]
  },
  {
   "cell_type": "code",
   "execution_count": 3,
   "id": "b79844af",
   "metadata": {},
   "outputs": [],
   "source": [
    "x_train = x_train.astype(np.float32)/255\n",
    "x_test = x_test.astype(np.float32)/255"
   ]
  },
  {
   "cell_type": "code",
   "execution_count": 4,
   "id": "e3f93df6",
   "metadata": {},
   "outputs": [],
   "source": [
    "x_train = np.expand_dims(x_train , -1 )\n",
    "x_test = np.expand_dims(x_test , -1 )"
   ]
  },
  {
   "cell_type": "code",
   "execution_count": 5,
   "id": "4a632e07",
   "metadata": {},
   "outputs": [],
   "source": [
    "y_train = keras.utils.to_categorical(y_train)\n",
    "y_test = keras.utils.to_categorical(y_test)\n",
    "y_train = y_train.reshape(-1, 10)"
   ]
  },
  {
   "cell_type": "code",
   "execution_count": 6,
   "id": "acb3ce78",
   "metadata": {},
   "outputs": [
    {
     "name": "stderr",
     "output_type": "stream",
     "text": [
      "C:\\Users\\SAMA\\anaconda3\\lib\\site-packages\\keras\\src\\layers\\convolutional\\base_conv.py:107: UserWarning: Do not pass an `input_shape`/`input_dim` argument to a layer. When using Sequential models, prefer using an `Input(shape)` object as the first layer in the model instead.\n",
      "  super().__init__(activity_regularizer=activity_regularizer, **kwargs)\n"
     ]
    }
   ],
   "source": [
    "CNN = Sequential()\n",
    "\n",
    "# convolution\n",
    "CNN.add(Conv2D(32, (3, 3), input_shape = (28, 28, 1), activation = 'relu'))\n",
    "\n",
    "# pooling\n",
    "CNN.add(MaxPool2D(pool_size = (2, 2)))\n",
    "\n",
    "# adding a second convolutional layer\n",
    "CNN.add(Conv2D(64 , (3, 3), activation = 'relu'))\n",
    "CNN.add(MaxPool2D(pool_size = (2, 2)))\n",
    "\n",
    "# flattening\n",
    "CNN.add(Flatten())\n",
    "\n",
    "#Dropout\n",
    "CNN.add(Dropout(0.25))\n",
    "\n",
    "# full connection\n",
    "CNN.add(Dense(128, activation = 'relu'))\n",
    "CNN.add(Dense(10, activation = 'softmax'))"
   ]
  },
  {
   "cell_type": "code",
   "execution_count": 7,
   "id": "2130e503",
   "metadata": {},
   "outputs": [],
   "source": [
    "CNN.compile(optimizer = 'adam',\n",
    "            loss = keras.losses.categorical_crossentropy,\n",
    "            metrics = ['accuracy'])"
   ]
  },
  {
   "cell_type": "code",
   "execution_count": 8,
   "id": "1b14eb07",
   "metadata": {},
   "outputs": [],
   "source": [
    "# callbacks \n",
    "\n",
    "from keras.callbacks import EarlyStopping , ModelCheckpoint\n",
    "\n",
    "#EarlyStopping\n",
    "\n",
    "es = EarlyStopping(monitor='val_acc' ,min_delta=0.01 ,patience= 4 , verbose= 1 )\n",
    "\n",
    "#Model Check point\n",
    "\n",
    "mc = ModelCheckpoint(\"./bestmodel.keras\" , monitor='val_acc' , verbose= 1 , save_best_only=True )\n",
    "\n",
    "cb = [es , mc]"
   ]
  },
  {
   "cell_type": "code",
   "execution_count": 9,
   "id": "9e82eaa5",
   "metadata": {},
   "outputs": [
    {
     "name": "stdout",
     "output_type": "stream",
     "text": [
      "Epoch 1/5\n",
      "\u001b[1m1313/1313\u001b[0m \u001b[32m━━━━━━━━━━━━━━━━━━━━\u001b[0m\u001b[37m\u001b[0m \u001b[1m8s\u001b[0m 5ms/step - accuracy: 0.8860 - loss: 0.3753 - val_accuracy: 0.9804 - val_loss: 0.0635\n",
      "Epoch 2/5\n",
      "\u001b[1m1313/1313\u001b[0m \u001b[32m━━━━━━━━━━━━━━━━━━━━\u001b[0m\u001b[37m\u001b[0m \u001b[1m6s\u001b[0m 5ms/step - accuracy: 0.9800 - loss: 0.0633 - val_accuracy: 0.9850 - val_loss: 0.0503\n",
      "Epoch 3/5\n",
      "\u001b[1m1313/1313\u001b[0m \u001b[32m━━━━━━━━━━━━━━━━━━━━\u001b[0m\u001b[37m\u001b[0m \u001b[1m6s\u001b[0m 5ms/step - accuracy: 0.9865 - loss: 0.0422 - val_accuracy: 0.9866 - val_loss: 0.0441\n",
      "Epoch 4/5\n",
      "\u001b[1m1313/1313\u001b[0m \u001b[32m━━━━━━━━━━━━━━━━━━━━\u001b[0m\u001b[37m\u001b[0m \u001b[1m6s\u001b[0m 5ms/step - accuracy: 0.9905 - loss: 0.0302 - val_accuracy: 0.9888 - val_loss: 0.0379\n",
      "Epoch 5/5\n",
      "\u001b[1m1313/1313\u001b[0m \u001b[32m━━━━━━━━━━━━━━━━━━━━\u001b[0m\u001b[37m\u001b[0m \u001b[1m6s\u001b[0m 5ms/step - accuracy: 0.9925 - loss: 0.0252 - val_accuracy: 0.9883 - val_loss: 0.0414\n"
     ]
    }
   ],
   "source": [
    "his = CNN.fit(x_train , y_train , epochs=5 , validation_split= 0.3 )"
   ]
  },
  {
   "cell_type": "code",
   "execution_count": null,
   "id": "4aa93857",
   "metadata": {},
   "outputs": [],
   "source": []
  }
 ],
 "metadata": {
  "kernelspec": {
   "display_name": "Python 3 (ipykernel)",
   "language": "python",
   "name": "python3"
  },
  "language_info": {
   "codemirror_mode": {
    "name": "ipython",
    "version": 3
   },
   "file_extension": ".py",
   "mimetype": "text/x-python",
   "name": "python",
   "nbconvert_exporter": "python",
   "pygments_lexer": "ipython3",
   "version": "3.9.19"
  }
 },
 "nbformat": 4,
 "nbformat_minor": 5
}
